{
 "cells": [
  {
   "cell_type": "code",
   "execution_count": 1,
   "id": "dadb6c6c",
   "metadata": {
    "ExecuteTime": {
     "end_time": "2021-12-01T08:25:14.490217Z",
     "start_time": "2021-12-01T08:25:11.718833Z"
    },
    "deletable": false,
    "editable": false
   },
   "outputs": [
    {
     "name": "stderr",
     "output_type": "stream",
     "text": [
      "[nltk_data] Downloading package punkt to /Users/ks/nltk_data...\n",
      "[nltk_data]   Package punkt is already up-to-date!\n",
      "Building prefix dict from the default dictionary ...\n",
      "Loading model from cache /var/folders/wd/0n3639rd5_x4t0dx1_tqvyvw0000gn/T/jieba.cache\n"
     ]
    },
    {
     "name": "stdout",
     "output_type": "stream",
     "text": [
      "加載用戶詞典 ......\n"
     ]
    },
    {
     "name": "stderr",
     "output_type": "stream",
     "text": [
      "Loading model cost 0.677 seconds.\n",
      "Prefix dict has been built successfully.\n"
     ]
    }
   ],
   "source": [
    "# -*- coding: utf-8 -*-\n",
    "import nltk\n",
    "nltk.download('punkt')\n",
    "import textprocess as tp\n",
    "import numpy as np"
   ]
  },
  {
   "cell_type": "code",
   "execution_count": 2,
   "id": "27ba4aa1",
   "metadata": {
    "ExecuteTime": {
     "end_time": "2021-12-01T08:25:14.499555Z",
     "start_time": "2021-12-01T08:25:14.493765Z"
    },
    "deletable": false,
    "editable": false
   },
   "outputs": [],
   "source": [
    "posdict = tp.read_lines(\"data/pos.txt\")\n",
    "negdict = tp.read_lines(\"data/neg.txt\")"
   ]
  },
  {
   "cell_type": "code",
   "execution_count": 3,
   "id": "a2885848",
   "metadata": {
    "ExecuteTime": {
     "end_time": "2021-12-01T08:25:14.509729Z",
     "start_time": "2021-12-01T08:25:14.504039Z"
    },
    "deletable": false,
    "editable": false
   },
   "outputs": [],
   "source": [
    "# 程度副詞詞典\n",
    "mostdict = tp.read_lines('data/most.txt')   # 權值為2\n",
    "verydict = tp.read_lines('data/very.txt')   # 權值為1.5\n",
    "moredict = tp.read_lines('data/more.txt')   # 權值為1.25\n",
    "ishdict = tp.read_lines('data/ish.txt')   # 權值為0.5\n",
    "insufficientdict = tp.read_lines('data/insufficiently.txt')  # 权權值為0.25\n",
    "inversedict = tp.read_lines('data/inverse.txt')  # 權值為-1"
   ]
  },
  {
   "cell_type": "code",
   "execution_count": 4,
   "id": "e630f30b",
   "metadata": {
    "ExecuteTime": {
     "end_time": "2021-12-01T08:25:14.518791Z",
     "start_time": "2021-12-01T08:25:14.513455Z"
    },
    "deletable": false,
    "editable": false
   },
   "outputs": [],
   "source": [
    "def match(word, sentiment_value):\n",
    "    if word in mostdict:\n",
    "        sentiment_value *= 2.0\n",
    "    elif word in verydict:\n",
    "        sentiment_value *= 1.75\n",
    "    elif word in moredict:\n",
    "        sentiment_value *= 1.5\n",
    "    elif word in ishdict:\n",
    "        sentiment_value *= 1.2\n",
    "    elif word in insufficientdict:\n",
    "        sentiment_value *= 0.5\n",
    "    elif word in inversedict:\n",
    "        #print \"inversedict\", word\n",
    "        sentiment_value *= -1\n",
    "    return sentiment_value"
   ]
  },
  {
   "cell_type": "code",
   "execution_count": 5,
   "id": "d2bd07bc",
   "metadata": {
    "ExecuteTime": {
     "end_time": "2021-12-01T08:25:14.525425Z",
     "start_time": "2021-12-01T08:25:14.521121Z"
    },
    "deletable": false,
    "editable": false
   },
   "outputs": [],
   "source": [
    "def transform_to_positive_num(poscount, negcount):\n",
    "    pos_count = 0\n",
    "    neg_count = 0\n",
    "    if poscount < 0 and negcount >= 0:\n",
    "        neg_count += negcount - poscount\n",
    "        pos_count = 0\n",
    "    elif negcount < 0 and poscount >= 0:\n",
    "        pos_count = poscount - negcount\n",
    "        neg_count = 0\n",
    "    elif poscount < 0 and negcount < 0:\n",
    "        neg_count = -poscount\n",
    "        pos_count = -negcount\n",
    "    else:\n",
    "        pos_count = poscount\n",
    "        neg_count = negcount\n",
    "    return (pos_count, neg_count)"
   ]
  },
  {
   "cell_type": "code",
   "execution_count": 13,
   "id": "cfddf520",
   "metadata": {
    "ExecuteTime": {
     "end_time": "2021-12-01T08:27:59.964982Z",
     "start_time": "2021-12-01T08:27:59.955795Z"
    },
    "deletable": false,
    "editable": false
   },
   "outputs": [],
   "source": [
    "def single_review_sentiment_score(inputtext):\n",
    "    single_review_senti_score = []\n",
    "    cuted_review = tp.cut_sentence(inputtext)  # 句子切分，單獨對每個句子進行分析\n",
    "\n",
    "    for sent in cuted_review:\n",
    "        seg_sent = tp.segmentation(sent)   # 分詞\n",
    "        seg_sent = tp.del_stopwords(seg_sent)[:]\n",
    "        #for w in seg_sent:\n",
    "        #   print (w,)\n",
    "        \n",
    "        i = 0    # 記錄掃描到的詞的位置\n",
    "        s = 0    # 記錄情感詞的位置\n",
    "        poscount = 0    # 記錄該分句中的積極情感得分\n",
    "        negcount = 0    # 記錄該分句中的消極情感得分\n",
    "\n",
    "        for word in seg_sent:   # 逐詞分析\n",
    "            print (word)\n",
    "            if word in posdict:  # 如果是積極情感詞\n",
    "                #print \"posword:\", word\n",
    "                poscount += 1   # 積極得分+1\n",
    "                for w in seg_sent[s:i]:\n",
    "                    poscount = match(w, poscount)\n",
    "                #print \"poscount:\", poscount\n",
    "                s = i + 1  # 記錄情感詞的位置變化\n",
    "\n",
    "            elif word in negdict:  # 如果是消極情感詞\n",
    "                #print \"negword:\", word\n",
    "                negcount += 1\n",
    "                for w in seg_sent[s:i]:\n",
    "                    negcount = match(w, negcount)\n",
    "                #print \"negcount:\", negcount\n",
    "                s = i + 1\n",
    "\n",
    "            # 如果是感嘆號，表示已經到本句句尾\n",
    "            elif word == \"！\" or word == \"!\":\n",
    "                for w2 in seg_sent[::-1]:  # 倒序掃描感嘆號前的情感詞，發現後權值+2，然後退出循環\n",
    "                    if w2 in posdict:\n",
    "                        poscount += 2\n",
    "                        break\n",
    "                    elif w2 in negdict:\n",
    "                        negcount += 2\n",
    "                        break\n",
    "            i += 1\n",
    "        #print \"poscount,negcount\", poscount, negcount\n",
    "        single_review_senti_score.append(transform_to_positive_num(poscount, negcount))   # 對得分做最後處理\n",
    "    pos_result, neg_result = 0, 0   # 分別記錄積極情感總得分和消極情感總得分\n",
    "    for res1, res2 in single_review_senti_score:  # 每個分句循環累加\n",
    "        pos_result += res1\n",
    "        neg_result += res2\n",
    "    #print (pos_result, neg_result)\n",
    "    result = pos_result - neg_result\n",
    "    result = round(result, 1)\n",
    "    return result"
   ]
  },
  {
   "cell_type": "code",
   "execution_count": 14,
   "id": "a14ac4d9",
   "metadata": {
    "ExecuteTime": {
     "end_time": "2021-12-01T08:28:00.311177Z",
     "start_time": "2021-12-01T08:28:00.307695Z"
    },
    "deletable": false,
    "editable": false
   },
   "outputs": [],
   "source": [
    "def getscore(text):\n",
    "    score = single_review_sentiment_score(text)\n",
    "    \n",
    "    return score"
   ]
  },
  {
   "cell_type": "code",
   "execution_count": 23,
   "id": "6dd3db87",
   "metadata": {
    "ExecuteTime": {
     "end_time": "2021-12-01T08:33:52.903396Z",
     "start_time": "2021-12-01T08:33:51.931080Z"
    },
    "deletable": false,
    "editable": false
   },
   "outputs": [
    {
     "name": "stdout",
     "output_type": "stream",
     "text": [
      "\n"
     ]
    }
   ],
   "source": [
    "if __name__ == '__main__':\n",
    "    text = input()\n",
    "\n",
    "    if (text != \"\"):\n",
    "        score = getscore(text)\n",
    "\n",
    "        if (score < 0):\n",
    "            print(\"Dissatisfaction\")\n",
    "        elif (score == 0):\n",
    "            print(\"Normal\")\n",
    "        elif (score > 0):\n",
    "            print(\"Satisfaction\")"
   ]
  },
  {
   "cell_type": "code",
   "execution_count": null,
   "id": "4f709e99",
   "metadata": {},
   "outputs": [],
   "source": []
  },
  {
   "cell_type": "code",
   "execution_count": null,
   "id": "71576d00",
   "metadata": {},
   "outputs": [],
   "source": []
  },
  {
   "cell_type": "code",
   "execution_count": null,
   "id": "a2d7afeb",
   "metadata": {},
   "outputs": [],
   "source": []
  }
 ],
 "metadata": {
  "kernelspec": {
   "display_name": "Python 3",
   "language": "python",
   "name": "python3"
  },
  "language_info": {
   "codemirror_mode": {
    "name": "ipython",
    "version": 3
   },
   "file_extension": ".py",
   "mimetype": "text/x-python",
   "name": "python",
   "nbconvert_exporter": "python",
   "pygments_lexer": "ipython3",
   "version": "3.7.10"
  }
 },
 "nbformat": 4,
 "nbformat_minor": 5
}
